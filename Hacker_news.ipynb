{
 "cells": [
  {
   "cell_type": "markdown",
   "id": "f04e14ef",
   "metadata": {},
   "source": [
    "<a id=\"1\"></a>\n",
    "# <p style=\";font-size:150%;text-align:center;border-radius:10px 10px;\">**Hacker News Posts**</p>"
   ]
  },
  {
   "cell_type": "markdown",
   "id": "7cbd5075",
   "metadata": {},
   "source": [
    "# About Dataset"
   ]
  },
  {
   "cell_type": "markdown",
   "id": "72881a11",
   "metadata": {},
   "source": [
    "This data set is Hacker News posts from the last 12 months (up to September 26 2016)\n",
    "\n",
    "\n",
    "| # | Attribute | Description |\n",
    "| --- | --- | --- |\n",
    "|1| id | The unique identifier from Hacker News for the post|\n",
    "|2|title| The title of the post|\n",
    "|3|url| The URL that the posts links to, if the post has a URL|\n",
    "|4|num_points| The number of points the post acquired, calculated as the total number of upvotes minus the total number of downvotes|\n",
    "|5|num_comments| The number of comments on the post|\n",
    "|6|author| The username of the person who submitted the post|\n",
    "|7|created_at| The date and time of the post's submission(the time zone is Eastern Time in the US)|\n"
   ]
  },
  {
   "cell_type": "code",
   "execution_count": 1,
   "id": "e4b28245",
   "metadata": {},
   "outputs": [],
   "source": [
    "from csv import reader"
   ]
  },
  {
   "cell_type": "code",
   "execution_count": 20,
   "id": "02309fcd",
   "metadata": {},
   "outputs": [
    {
     "name": "stdout",
     "output_type": "stream",
     "text": [
      "[['id', 'title', 'url', 'num_points', 'num_comments', 'author', 'created_at'], ['12579008', 'You have two days to comment if you want stem cells to be classified as your own', 'http://www.regulations.gov/document?D=FDA-2015-D-3719-0018', '1', '0', 'altstar', '9/26/2016 3:26'], ['12579005', 'SQLAR  the SQLite Archiver', 'https://www.sqlite.org/sqlar/doc/trunk/README.md', '1', '0', 'blacksqr', '9/26/2016 3:24'], ['12578997', 'What if we just printed a flatscreen television on the side of our boxes?', 'https://medium.com/vanmoof/our-secrets-out-f21c1f03fdc8#.ietxmez43', '1', '0', 'pavel_lishin', '9/26/2016 3:19'], ['12578989', 'algorithmic music', 'http://cacm.acm.org/magazines/2011/7/109891-algorithmic-composition/fulltext', '1', '0', 'poindontcare', '9/26/2016 3:16']]\n"
     ]
    }
   ],
   "source": [
    "data=open(\"HN_posts_year_to_Sep_26_2016.csv\",\"r\",encoding='utf-8')\n",
    "#data=open(\"hacker_news.csv\",\"r\",encoding='utf-8')\n",
    "\n",
    "# Read the file in as a list of lists\n",
    "data = reader(data)\n",
    "data = list(data)\n",
    "\n",
    "# Display the first five rows \n",
    "print(data[0:5])"
   ]
  },
  {
   "cell_type": "markdown",
   "id": "141eef0d",
   "metadata": {},
   "source": [
    "According to the above the first five rows, it is clear that the first list in the inner lists contains the column headers, and the lists after containing the data for one row. In order to analyze the data, we need first to remove the row containing the column headers."
   ]
  },
  {
   "cell_type": "code",
   "execution_count": 21,
   "id": "7bb8a00e",
   "metadata": {},
   "outputs": [
    {
     "name": "stdout",
     "output_type": "stream",
     "text": [
      "[['12579008', 'You have two days to comment if you want stem cells to be classified as your own', 'http://www.regulations.gov/document?D=FDA-2015-D-3719-0018', '1', '0', 'altstar', '9/26/2016 3:26'], ['12579005', 'SQLAR  the SQLite Archiver', 'https://www.sqlite.org/sqlar/doc/trunk/README.md', '1', '0', 'blacksqr', '9/26/2016 3:24'], ['12578997', 'What if we just printed a flatscreen television on the side of our boxes?', 'https://medium.com/vanmoof/our-secrets-out-f21c1f03fdc8#.ietxmez43', '1', '0', 'pavel_lishin', '9/26/2016 3:19'], ['12578989', 'algorithmic music', 'http://cacm.acm.org/magazines/2011/7/109891-algorithmic-composition/fulltext', '1', '0', 'poindontcare', '9/26/2016 3:16'], ['12578979', 'How the Data Vault Enables the Next-Gen Data Warehouse and Data Lake', 'https://www.talend.com/blog/2016/05/12/talend-and-Â\\x93the-data-vaultÂ\\x94', '1', '0', 'markgainor1', '9/26/2016 3:14']]\n"
     ]
    }
   ],
   "source": [
    "data = data[1:]\n",
    "# Check the data so that the first column is certainly removed. \n",
    "print(data[0:5])"
   ]
  },
  {
   "cell_type": "markdown",
   "id": "b1e62c95",
   "metadata": {},
   "source": [
    "Since we are only concerned with submissions that receive comments, we need to remove all submissions that didn't receive any comments, which means that we need to clear the 0 value in the fourth column (the num_comments column)."
   ]
  },
  {
   "cell_type": "code",
   "execution_count": 22,
   "id": "701bdfab",
   "metadata": {
    "scrolled": true
   },
   "outputs": [],
   "source": [
    "temp = data.copy()\n",
    "for row in temp:\n",
    "    if int(row[4]) == 0:\n",
    "        data.remove(row)"
   ]
  },
  {
   "cell_type": "markdown",
   "id": "c30f118a",
   "metadata": {},
   "source": [
    "Next, as we're only concerned with post titles beginning with *Ask HN* or *Show HN*, we'll create new lists of lists containing just the data for those titles."
   ]
  },
  {
   "cell_type": "code",
   "execution_count": 24,
   "id": "5e1fa571",
   "metadata": {
    "scrolled": false
   },
   "outputs": [
    {
     "name": "stdout",
     "output_type": "stream",
     "text": [
      " Number of ask posts:  6911\n",
      " Number of show posts:  5059\n",
      " Number of other posts:  68431\n"
     ]
    }
   ],
   "source": [
    "# To find the posts that begin with either Ask HN or Show HN, we'll use the string method string.startswith(value, start, end)\n",
    "ask_posts = []\n",
    "show_posts = [] \n",
    "other_posts = []\n",
    "\n",
    "for value in data:\n",
    "    # The startswith() method in Python is capable of distinguishing between uppercase and lowercase letters when comparing strings.\n",
    "    # To control for the cases, we can use the lower method, which returns a lowercase version of the starting string.\n",
    "    title = value[1].lower()\n",
    "    if title.startswith('ask hn'):\n",
    "        ask_posts.append(value)\n",
    "    elif title.startswith('show hn'):\n",
    "        show_posts.append(value)\n",
    "    else:\n",
    "        other_posts.append(value)\n",
    "\n",
    "print(' Number of ask posts: ', len(ask_posts))\n",
    "print(' Number of show posts: ', len(show_posts))\n",
    "print(' Number of other posts: ', len(other_posts))"
   ]
  },
  {
   "cell_type": "code",
   "execution_count": 25,
   "id": "2ab9edd6",
   "metadata": {},
   "outputs": [
    {
     "name": "stdout",
     "output_type": "stream",
     "text": [
      "The total comments on ask posts:  94986\n",
      "The average number of comments on ask posts:  13.744175951381855\n"
     ]
    }
   ],
   "source": [
    "total_ask_comments = 0\n",
    "for row in ask_posts:\n",
    "    num_comments = int(row[4])\n",
    "    total_ask_comments += num_comments\n",
    "    \n",
    "avg_ask_comments = total_ask_comments/len(ask_posts)\n",
    "\n",
    "print('The total comments on ask posts: ', total_ask_comments)\n",
    "print('The average number of comments on ask posts: ', avg_ask_comments)"
   ]
  },
  {
   "cell_type": "code",
   "execution_count": 26,
   "id": "da133f52",
   "metadata": {},
   "outputs": [
    {
     "name": "stdout",
     "output_type": "stream",
     "text": [
      "The total comments on show posts:  49633\n",
      "The average number of comments on show posts:  9.810832180272781\n"
     ]
    }
   ],
   "source": [
    "total_show_comments = 0\n",
    "for row in show_posts:\n",
    "    num_comments = int(row[4])\n",
    "    total_show_comments += num_comments\n",
    "    \n",
    "avg_show_comments = total_show_comments/len(show_posts)\n",
    "\n",
    "print('The total comments on show posts: ', total_show_comments)\n",
    "print('The average number of comments on show posts: ', avg_show_comments)"
   ]
  },
  {
   "cell_type": "markdown",
   "id": "bf494952",
   "metadata": {},
   "source": [
    "**According to the above analysis:** \n",
    "  - It is seen that ask posts receive more comments than show posts. "
   ]
  },
  {
   "cell_type": "code",
   "execution_count": 27,
   "id": "ad05350b",
   "metadata": {},
   "outputs": [],
   "source": [
    "import datetime as dt"
   ]
  },
  {
   "cell_type": "code",
   "execution_count": 28,
   "id": "f8e728b5",
   "metadata": {},
   "outputs": [],
   "source": [
    "result_list = []\n",
    "for row in ask_posts:\n",
    "    temp = [row[6], int(row[4])]\n",
    "    result_list.append(temp)"
   ]
  },
  {
   "cell_type": "markdown",
   "id": "7f9b3b6a",
   "metadata": {},
   "source": [
    "Next, we'll use these two dictionaries to calculate the average number of comments for posts created during each hour of the day."
   ]
  },
  {
   "cell_type": "code",
   "execution_count": 29,
   "id": "c82beb4f",
   "metadata": {},
   "outputs": [],
   "source": [
    "counts_by_hour = {} #  contains the number of ask posts created during each hour of the day.\n",
    "comments_by_hour = {} # contains the corresponding number of comments ask posts created at each hour received.\n",
    "\n",
    "for row in result_list:\n",
    "    date, time = row[0].split()\n",
    "    \n",
    "    hour, minutes = time.split(':') \n",
    "    month, day, year = date.split('/')\n",
    "    date = dt.datetime(int(year), int(month),int(day))\n",
    "    #date = datetime.strftime()\n",
    "    if hour not in counts_by_hour.keys(): \n",
    "        counts_by_hour[hour] = 1\n",
    "        comments_by_hour[hour] = row[1]\n",
    "    else: \n",
    "        counts_by_hour[hour] += 1\n",
    "        comments_by_hour[hour] += row[1]"
   ]
  },
  {
   "cell_type": "markdown",
   "id": "5d4ea124",
   "metadata": {},
   "source": [
    "We calculated the average number of comments for posts created during each hour of the day, and stored the results in a list of lists named avg_by_hour."
   ]
  },
  {
   "cell_type": "code",
   "execution_count": 30,
   "id": "ffb0098a",
   "metadata": {},
   "outputs": [
    {
     "name": "stdout",
     "output_type": "stream",
     "text": [
      "[['2', 13.198237885462555], ['1', 9.367713004484305], ['22', 11.749128919860627], ['21', 11.056511056511056], ['19', 9.414285714285715], ['17', 13.73019801980198], ['15', 39.66809421841542], ['14', 13.153439153439153], ['13', 22.2239263803681], ['11', 11.143426294820717], ['10', 13.757990867579908], ['9', 8.392045454545455], ['7', 10.095541401273886], ['3', 10.160377358490566], ['16', 10.76144578313253], ['8', 12.43157894736842], ['0', 9.857142857142858], ['23', 8.322463768115941], ['20', 11.38265306122449], ['18', 10.789823008849558], ['12', 15.452554744525548], ['4', 12.688172043010752], ['6', 9.017045454545455], ['5', 11.139393939393939]]\n"
     ]
    }
   ],
   "source": [
    "avg_by_hour = []\n",
    "for hour, count in counts_by_hour.items():\n",
    "    avg_by_hour.append([hour,comments_by_hour[hour]/count])\n",
    "print(avg_by_hour)"
   ]
  },
  {
   "cell_type": "code",
   "execution_count": 31,
   "id": "5f0aa30b",
   "metadata": {},
   "outputs": [],
   "source": [
    "swap_avg_by_hour = []\n",
    "for row in avg_by_hour:\n",
    "    swap_avg_by_hour.append([row[1],row[0]])\n",
    "sorted_swap = sorted(swap_avg_by_hour,  reverse = True)"
   ]
  },
  {
   "cell_type": "code",
   "execution_count": 33,
   "id": "48b9d1a9",
   "metadata": {},
   "outputs": [
    {
     "data": {
      "text/plain": [
       "[[39.66809421841542, '15'],\n",
       " [22.2239263803681, '13'],\n",
       " [15.452554744525548, '12'],\n",
       " [13.757990867579908, '10'],\n",
       " [13.73019801980198, '17'],\n",
       " [13.198237885462555, '2'],\n",
       " [13.153439153439153, '14'],\n",
       " [12.688172043010752, '4'],\n",
       " [12.43157894736842, '8'],\n",
       " [11.749128919860627, '22'],\n",
       " [11.38265306122449, '20'],\n",
       " [11.143426294820717, '11'],\n",
       " [11.139393939393939, '5'],\n",
       " [11.056511056511056, '21'],\n",
       " [10.789823008849558, '18'],\n",
       " [10.76144578313253, '16'],\n",
       " [10.160377358490566, '3'],\n",
       " [10.095541401273886, '7'],\n",
       " [9.857142857142858, '0'],\n",
       " [9.414285714285715, '19'],\n",
       " [9.367713004484305, '1'],\n",
       " [9.017045454545455, '6'],\n",
       " [8.392045454545455, '9'],\n",
       " [8.322463768115941, '23']]"
      ]
     },
     "execution_count": 33,
     "metadata": {},
     "output_type": "execute_result"
    }
   ],
   "source": [
    "sorted_swap"
   ]
  },
  {
   "cell_type": "code",
   "execution_count": 32,
   "id": "0da3cae6",
   "metadata": {},
   "outputs": [
    {
     "name": "stdout",
     "output_type": "stream",
     "text": [
      "Top 5 Hours for Ask Posts Comments:\n",
      "15:00: 39.67 average comments per post\n",
      "13:00: 22.22 average comments per post\n",
      "12:00: 15.45 average comments per post\n",
      "10:00: 13.76 average comments per post\n",
      "17:00: 13.73 average comments per post\n"
     ]
    }
   ],
   "source": [
    "print('Top 5 Hours for Ask Posts Comments:')    \n",
    "for value in sorted_swap[:5]:\n",
    "    time = dt.datetime.strptime(value[1] + ':00',\"%H:%M\")\n",
    "    a = time.strftime(\"%H:%M\")\n",
    "    string = '{}: {:.2f} average comments per post'\n",
    "    print(string.format(a, value[0]))"
   ]
  },
  {
   "cell_type": "markdown",
   "id": "12cb7b80",
   "metadata": {},
   "source": [
    "**According to above the analysis:**\n",
    " - 13:00 and 15:00 are the time frames that you should create your ask post because of the highest number of receiving comments, especially at the 15:00 time frame. By contrast, you need to avoid posting at the 9:00 and 23:00 time frames.\n",
    " \n",
    " -  Moreover, this dataset was collected in the US, so if you want to create the ask post when you live in Viet Nam, the most suitable time frame is 2:00. "
   ]
  }
 ],
 "metadata": {
  "kernelspec": {
   "display_name": "Python 3 (ipykernel)",
   "language": "python",
   "name": "python3"
  },
  "language_info": {
   "codemirror_mode": {
    "name": "ipython",
    "version": 3
   },
   "file_extension": ".py",
   "mimetype": "text/x-python",
   "name": "python",
   "nbconvert_exporter": "python",
   "pygments_lexer": "ipython3",
   "version": "3.9.7"
  },
  "widgets": {
   "application/vnd.jupyter.widget-state+json": {
    "state": {},
    "version_major": 2,
    "version_minor": 0
   }
  }
 },
 "nbformat": 4,
 "nbformat_minor": 5
}
